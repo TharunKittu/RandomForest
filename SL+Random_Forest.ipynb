{
  "nbformat": 4,
  "nbformat_minor": 0,
  "metadata": {
    "colab": {
      "provenance": []
    },
    "kernelspec": {
      "name": "python3",
      "display_name": "Python 3"
    },
    "language_info": {
      "name": "python"
    }
  },
  "cells": [
    {
      "cell_type": "markdown",
      "source": [
        "NAME : K.THARUN\n",
        "\n",
        "ROLL.NO : 21X05A6732\n",
        "\n",
        "BRANCH : CSE(DATA SCIENCE)\n",
        "\n",
        "NRCM"
      ],
      "metadata": {
        "id": "Yy3ZOobLItVi"
      }
    },
    {
      "cell_type": "markdown",
      "source": [
        "## PROJECT TITLE :\n",
        "Classify the random forest algorithm using skit learn classifier using\"RandomForestClassifier\" for iris.csv,and predict the data how many species are interconnected with Nth DecisionTree node"
      ],
      "metadata": {
        "id": "4Ul6HmsLEisG"
      }
    },
    {
      "cell_type": "markdown",
      "source": [
        "## TASK\n",
        "\n",
        "1. import random forest classifier by using sklearn.ensemble library\n",
        "\n",
        "2. Load your data using seaborn graphics library as an argument load_iris()\n",
        "\n",
        "3. Pre-processes the data using skitlearn graphics library\n",
        "\n",
        "4. Select the model using \"model_selection\" prompt sns as seaborn and\n",
        "   sklearn as a machine learn library\n",
        "\n",
        "5. Load iris.csv dataset for \"data\" as a input variable and \"target\" as a\n",
        "   functionable output variable\n",
        "\n",
        "6. Pick the train and test data using argumental library train_test_split\n",
        "\n",
        "7. select the estimators as a Nth DecisionTree\n",
        "\n",
        "8. Use a RandomForest classifier and fit your model\n",
        "\n",
        "9. Find out your model accuracy."
      ],
      "metadata": {
        "id": "tUPCBEWgFQ_1"
      }
    },
    {
      "cell_type": "code",
      "execution_count": 1,
      "metadata": {
        "id": "2QDvncuAYc8s"
      },
      "outputs": [],
      "source": [
        "from sklearn.datasets import load_iris\n",
        "from sklearn.model_selection import train_test_split\n",
        "from sklearn.ensemble import RandomForestClassifier\n",
        "from sklearn.metrics import accuracy_score"
      ]
    },
    {
      "cell_type": "code",
      "source": [
        "\n",
        "# Load the Iris dataset\n",
        "iris = load_iris()\n",
        "X = iris.data\n",
        "y = iris.target"
      ],
      "metadata": {
        "id": "U6cyMkq-YqXo"
      },
      "execution_count": 3,
      "outputs": []
    },
    {
      "cell_type": "code",
      "source": [
        "# Split the dataset into training and testing sets\n",
        "X_train, X_test, y_train, y_test = train_test_split(X, y, test_size=0.2, random_state=42)\n"
      ],
      "metadata": {
        "id": "8QswL_AiYs-M"
      },
      "execution_count": 4,
      "outputs": []
    },
    {
      "cell_type": "code",
      "source": [
        "# Create a Random Forest classifier with 100 trees\n",
        "random_forest = RandomForestClassifier(n_estimators=100)\n"
      ],
      "metadata": {
        "id": "edtu3240Yvdj"
      },
      "execution_count": 5,
      "outputs": []
    },
    {
      "cell_type": "code",
      "source": [
        "\n",
        "# Train the classifier on the training data\n",
        "random_forest.fit(X_train, y_train)\n"
      ],
      "metadata": {
        "id": "zt4hkVzlYxtW"
      },
      "execution_count": null,
      "outputs": []
    },
    {
      "cell_type": "code",
      "source": [
        "# Make predictions on the test data\n",
        "y_pred = random_forest.predict(X_test)\n"
      ],
      "metadata": {
        "id": "sYTydUHqY2Ff"
      },
      "execution_count": 7,
      "outputs": []
    },
    {
      "cell_type": "code",
      "source": [
        "# Calculate accuracy\n",
        "accuracy = accuracy_score(y_test, y_pred)\n",
        "print(f\"Accuracy: {accuracy:.2f}\")"
      ],
      "metadata": {
        "colab": {
          "base_uri": "https://localhost:8080/"
        },
        "id": "7bfk0g5pY5Rh",
        "outputId": "945d8b76-e5af-4fd3-8628-4f82b5650b57"
      },
      "execution_count": 8,
      "outputs": [
        {
          "output_type": "stream",
          "name": "stdout",
          "text": [
            "Accuracy: 1.00\n"
          ]
        }
      ]
    },
    {
      "cell_type": "markdown",
      "source": [
        "CONCLUSION :\n",
        "\n",
        "My model has approach 1.00 accuracy , which lies between in the range of 0-1.\n",
        "\n",
        "Hence it shows that RandomForest Decision Model successfully implemented."
      ],
      "metadata": {
        "id": "EEtyNOVXH7-n"
      }
    }
  ]
}